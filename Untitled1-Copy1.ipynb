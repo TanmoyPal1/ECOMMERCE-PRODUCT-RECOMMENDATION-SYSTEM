{
 "cells": [
  {
   "cell_type": "code",
   "execution_count": 1,
   "id": "d5ded112-ad09-4af9-997d-c38cb1f65bdc",
   "metadata": {},
   "outputs": [
    {
     "name": "stdout",
     "output_type": "stream",
     "text": [
      "WARNING:tensorflow:From C:\\Users\\User\\AppData\\Roaming\\Python\\Python312\\site-packages\\tf_keras\\src\\losses.py:2976: The name tf.losses.sparse_softmax_cross_entropy is deprecated. Please use tf.compat.v1.losses.sparse_softmax_cross_entropy instead.\n",
      "\n"
     ]
    },
    {
     "name": "stdin",
     "output_type": "stream",
     "text": [
      "Enter User ID:  U0019890\n",
      "Enter Product Name to find similar products:  blazer\n"
     ]
    },
    {
     "name": "stdout",
     "output_type": "stream",
     "text": [
      "\n",
      "✅ ALS Collaborative Filtering Recommendations:\n",
      "Product: Washing Machine | Score: 0.0179\n",
      "Product: Body Wash | Score: 0.0110\n",
      "Product: Bravia TV | Score: 0.0108\n",
      "Product: Ultraboost Shoes | Score: 0.0103\n",
      "Product: Formal Shirt | Score: 0.0097\n",
      "\n",
      "✅ Content-Based Filtering Recommendations:\n",
      "Product: XPS 13\n",
      "Product: WH-1000XM5\n",
      "Product: iPhone 15\n",
      "Product: Bravia TV\n",
      "Product: Revolution 6\n",
      "\n",
      "✅ BERT Semantic Similarity Recommendations:\n",
      "Product: Shampoo | Score: 1.0000\n",
      "Product: Revolution 6 | Score: 1.0000\n",
      "Product: Suit | Score: 1.0000\n",
      "Product: Blazer | Score: 1.0000\n",
      "Product: Hair Serum | Score: 1.0000\n"
     ]
    }
   ],
   "source": [
    "import pandas as pd\n",
    "import numpy as np\n",
    "import pickle\n",
    "from scipy.sparse import csr_matrix\n",
    "from sentence_transformers import SentenceTransformer, util\n",
    "import torch\n",
    "from sklearn.feature_extraction.text import TfidfVectorizer\n",
    "from sklearn.neighbors import NearestNeighbors\n",
    "\n",
    "df = pd.read_csv(\"cleaned_ecommerce_data.csv\")\n",
    "df['review text'] = df['review text'].fillna('')\n",
    "\n",
    "with open(\"als_model.pkl\", \"rb\") as f:\n",
    "    als_model = pickle.load(f)\n",
    "with open(\"user_encoder.pkl\", \"rb\") as f:\n",
    "    user_encoder = pickle.load(f)\n",
    "with open(\"product_encoder.pkl\", \"rb\") as f:\n",
    "    product_encoder = pickle.load(f)\n",
    "\n",
    "sparse_data = np.load(\"user_item_sparse.npz\")\n",
    "interaction_matrix = csr_matrix((sparse_data['data'], sparse_data['indices'], sparse_data['indptr']),\n",
    "                                shape=sparse_data['shape'])\n",
    "\n",
    "with open(\"content_model.pkl\", \"rb\") as f:\n",
    "    content_data = pickle.load(f)\n",
    "\n",
    "content_model = content_data['model']\n",
    "tfidf = content_data['tfidf']\n",
    "content_df = content_data['data']\n",
    "\n",
    "bert_model = SentenceTransformer('all-MiniLM-L6-v2')\n",
    "bert_embeddings = np.load(\"bert_embeddings.npy\")\n",
    "\n",
    "user_input_id = input(\"Enter User ID: \").strip()\n",
    "product_input_name = input(\"Enter Product Name to find similar products: \").strip()\n",
    "\n",
    "print(\"\\n✅ ALS Collaborative Filtering Recommendations:\")\n",
    "if user_input_id in df['user id'].values:\n",
    "    user_index = user_encoder.transform([user_input_id])[0]\n",
    "    \n",
    "    item_indices, scores = als_model.recommend(user_index, interaction_matrix[user_index], N=5)\n",
    "    \n",
    "    for item_idx, score in zip(item_indices, scores):\n",
    "        product_id = product_encoder.inverse_transform([item_idx])[0]\n",
    "        product_name = df[df['product id'] == product_id]['product name'].values[0]\n",
    "        print(f\"Product: {product_name} | Score: {score:.4f}\")\n",
    "else:\n",
    "    print(\"❌ User ID not found in dataset.\")\n",
    "\n",
    "\n",
    "print(\"\\n✅ Content-Based Filtering Recommendations:\")\n",
    "match = content_df[content_df['product name'].str.contains(product_input_name, case=False, na=False)]\n",
    "if not match.empty:\n",
    "    index = match.index[0]\n",
    "    tfidf_matrix = tfidf.transform(content_df['review text'])\n",
    "    distances, indices = content_model.kneighbors(tfidf_matrix[index], n_neighbors=6)\n",
    "    for i in indices[0][1:]:  \n",
    "        print(\"Product:\", content_df.iloc[i]['product name'])\n",
    "else:\n",
    "    print(\"❌ Product Name not found in Content-Based data.\")\n",
    "\n",
    "print(\"\\n✅ BERT Semantic Similarity Recommendations:\")\n",
    "match = df[df['product name'].str.contains(product_input_name, case=False, na=False)]\n",
    "if not match.empty:\n",
    "    index = match.index[0]\n",
    "    query_embedding = torch.tensor(bert_embeddings[index])\n",
    "    all_embeddings = torch.tensor(bert_embeddings)\n",
    "    cos_scores = util.pytorch_cos_sim(query_embedding, all_embeddings)[0]\n",
    "    top_results = torch.topk(cos_scores, k=6)\n",
    "    for score, idx in zip(top_results[0][1:], top_results[1][1:]):  \n",
    "        print(f\"Product: {df.iloc[int(idx)]['product name']} | Score: {score:.4f}\")\n",
    "else:\n",
    "    print(\"❌ Product Name not found in BERT data.\")\n"
   ]
  },
  {
   "cell_type": "code",
   "execution_count": null,
   "id": "1109846e-7391-4a5d-bf5f-57056b0279ee",
   "metadata": {},
   "outputs": [],
   "source": []
  }
 ],
 "metadata": {
  "kernelspec": {
   "display_name": "Python 3 (ipykernel)",
   "language": "python",
   "name": "python3"
  },
  "language_info": {
   "codemirror_mode": {
    "name": "ipython",
    "version": 3
   },
   "file_extension": ".py",
   "mimetype": "text/x-python",
   "name": "python",
   "nbconvert_exporter": "python",
   "pygments_lexer": "ipython3",
   "version": "3.12.4"
  }
 },
 "nbformat": 4,
 "nbformat_minor": 5
}
